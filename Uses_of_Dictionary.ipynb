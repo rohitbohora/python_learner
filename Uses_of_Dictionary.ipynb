{
  "nbformat": 4,
  "nbformat_minor": 0,
  "metadata": {
    "colab": {
      "name": "Uses of Dictionary.ipynb",
      "provenance": [],
      "authorship_tag": "ABX9TyMBKdR5E1gHt/KJLcKS/R9F",
      "include_colab_link": true
    },
    "kernelspec": {
      "name": "python3",
      "display_name": "Python 3"
    }
  },
  "cells": [
    {
      "cell_type": "markdown",
      "metadata": {
        "id": "view-in-github",
        "colab_type": "text"
      },
      "source": [
        "<a href=\"https://colab.research.google.com/github/rohitbohora/python_learner/blob/master/Uses_of_Dictionary.ipynb\" target=\"_parent\"><img src=\"https://colab.research.google.com/assets/colab-badge.svg\" alt=\"Open In Colab\"/></a>"
      ]
    },
    {
      "cell_type": "code",
      "metadata": {
        "id": "6yyVGUJntnOP",
        "colab_type": "code",
        "colab": {}
      },
      "source": [
        "# How to use Dictionary in python ?\n",
        "# d = {}\n",
        "# d = dict()\n"
      ],
      "execution_count": 0,
      "outputs": []
    },
    {
      "cell_type": "code",
      "metadata": {
        "id": "ihCyP7fWp5aT",
        "colab_type": "code",
        "colab": {}
      },
      "source": [
        "d = {}\n",
        "\n",
        "# d ={\"rohit\": 20, \"sagar\":20}\n",
        "\n",
        "d[\"rohit\"] = 20\n",
        "d[\"sagar\"] = 20\n",
        "\n",
        "print(d[\"rohit\"])\n",
        "print(d[\"sagar\"])"
      ],
      "execution_count": 0,
      "outputs": []
    },
    {
      "cell_type": "code",
      "metadata": {
        "id": "_bnQdsXvqF5S",
        "colab_type": "code",
        "outputId": "82517ab8-f03e-40d3-9ce9-c0186a08429d",
        "colab": {
          "base_uri": "https://localhost:8080/",
          "height": 35
        }
      },
      "source": [
        "d[10] = 100\n",
        "\n",
        "print(d[10])"
      ],
      "execution_count": 0,
      "outputs": [
        {
          "output_type": "stream",
          "text": [
            "100\n"
          ],
          "name": "stdout"
        }
      ]
    },
    {
      "cell_type": "code",
      "metadata": {
        "id": "SmhJ8efzrUm1",
        "colab_type": "code",
        "outputId": "0e54e6ea-abc3-4f31-a52a-36ed3ddb5e00",
        "colab": {
          "base_uri": "https://localhost:8080/",
          "height": 235
        }
      },
      "source": [
        "#how to iterate over key-values pairs\n",
        "\n",
        "for key, value in d.items():\n",
        "  print(\"key:\" )\n",
        "  print(key)\n",
        "  print(\"value:\" )\n",
        "  print(value)"
      ],
      "execution_count": 0,
      "outputs": [
        {
          "output_type": "stream",
          "text": [
            "key:\n",
            "rohit\n",
            "value:\n",
            "20\n",
            "key:\n",
            "sagar\n",
            "value:\n",
            "20\n",
            "key:\n",
            "10\n",
            "value:\n",
            "100\n"
          ],
          "name": "stdout"
        }
      ]
    },
    {
      "cell_type": "code",
      "metadata": {
        "id": "sb004eLar9qI",
        "colab_type": "code",
        "colab": {}
      },
      "source": [
        "d = dict()\n",
        "\n",
        "d[\"Rohit Bohora\"] = 21\n",
        "d[\"Sunu Bohora\"] = 20\n",
        "\n",
        "print(d[\"Rohit Bohora\"])\n",
        "print(d[\"Sunu Bohora\"])"
      ],
      "execution_count": 0,
      "outputs": []
    },
    {
      "cell_type": "code",
      "metadata": {
        "id": "6WepjfQws_-i",
        "colab_type": "code",
        "outputId": "adce7430-98f9-4a33-9ad0-68a1821d3958",
        "colab": {
          "base_uri": "https://localhost:8080/",
          "height": 163
        }
      },
      "source": [
        "for key,value in d.items():\n",
        "  print(\"key\")\n",
        "  print(key)y\n",
        "  print(\"value\")\n",
        "  print(value)"
      ],
      "execution_count": 0,
      "outputs": [
        {
          "output_type": "stream",
          "text": [
            "key\n",
            "Rohit Bohora\n",
            "value\n",
            "21\n",
            "key\n",
            "Sunu Bohora\n",
            "value\n",
            "20\n"
          ],
          "name": "stdout"
        }
      ]
    },
    {
      "cell_type": "code",
      "metadata": {
        "id": "QLqswswWtRtp",
        "colab_type": "code",
        "outputId": "53da5fb2-4b8f-4063-86df-62e6d7e44dcc",
        "colab": {
          "base_uri": "https://localhost:8080/",
          "height": 35
        }
      },
      "source": [
        "this_dict = {\n",
        "    \"brand\": \"hyundai\",\n",
        "    \"model\": \"honda\",\n",
        "    \"year\": 2020\n",
        "}\n",
        "print(this_dict)"
      ],
      "execution_count": 0,
      "outputs": [
        {
          "output_type": "stream",
          "text": [
            "{'brand': 'hyundai', 'model': 'honda', 'year': 2020}\n"
          ],
          "name": "stdout"
        }
      ]
    },
    {
      "cell_type": "code",
      "metadata": {
        "id": "xXjNppSavkzY",
        "colab_type": "code",
        "colab": {}
      },
      "source": [
        "this_dict[\"year\"] = 2021\n",
        "print(this_dict)"
      ],
      "execution_count": 0,
      "outputs": []
    },
    {
      "cell_type": "code",
      "metadata": {
        "id": "OzCVoHC6v5yW",
        "colab_type": "code",
        "colab": {
          "base_uri": "https://localhost:8080/",
          "height": 72
        },
        "outputId": "4b5f5585-1586-4a2d-97a9-224602e3ed0a"
      },
      "source": [
        "#use loop for dictionary\n",
        "\n",
        "d = this_dict[\"model\"]\n",
        "for d in this_dict:\n",
        "  print(d)"
      ],
      "execution_count": 20,
      "outputs": [
        {
          "output_type": "stream",
          "text": [
            "brand\n",
            "model\n",
            "year\n"
          ],
          "name": "stdout"
        }
      ]
    },
    {
      "cell_type": "code",
      "metadata": {
        "id": "rPqk-c0m43NS",
        "colab_type": "code",
        "colab": {
          "base_uri": "https://localhost:8080/",
          "height": 35
        },
        "outputId": "bd6745a2-eaed-4b73-9e2d-248dcee4f1f9"
      },
      "source": [
        "a = {\n",
        "    \"Name\": \"Rohit Bohora\",\n",
        "     \"Age\":20,\n",
        "     \"Height\": 6,\n",
        "     \"Hometown\":\"Baglung\",\n",
        "}\n",
        "\n",
        "print(a)"
      ],
      "execution_count": 22,
      "outputs": [
        {
          "output_type": "stream",
          "text": [
            "{'Name': 'Rohit Bohora', 'Age': 20, 'Height': 6, 'Hometown': 'Baglung'}\n"
          ],
          "name": "stdout"
        }
      ]
    },
    {
      "cell_type": "code",
      "metadata": {
        "id": "cb5PZejJ6VUi",
        "colab_type": "code",
        "colab": {}
      },
      "source": [
        ""
      ],
      "execution_count": 0,
      "outputs": []
    }
  ]
}