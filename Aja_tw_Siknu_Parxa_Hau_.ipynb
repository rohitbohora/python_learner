{
  "nbformat": 4,
  "nbformat_minor": 0,
  "metadata": {
    "colab": {
      "name": "Aja tw Siknu Parxa Hau .ipynb",
      "provenance": [],
      "authorship_tag": "ABX9TyNHtISuhzw1Isoa8fO+zwqo",
      "include_colab_link": true
    },
    "kernelspec": {
      "name": "python3",
      "display_name": "Python 3"
    }
  },
  "cells": [
    {
      "cell_type": "markdown",
      "metadata": {
        "id": "view-in-github",
        "colab_type": "text"
      },
      "source": [
        "<a href=\"https://colab.research.google.com/github/rohitbohora/python_learner/blob/master/Aja_tw_Siknu_Parxa_Hau_.ipynb\" target=\"_parent\"><img src=\"https://colab.research.google.com/assets/colab-badge.svg\" alt=\"Open In Colab\"/></a>"
      ]
    },
    {
      "cell_type": "code",
      "metadata": {
        "id": "fxB_b9uwSFpC",
        "colab_type": "code",
        "colab": {}
      },
      "source": [
        ""
      ],
      "execution_count": 0,
      "outputs": []
    },
    {
      "cell_type": "code",
      "metadata": {
        "id": "sG6UJRyX8TL7",
        "colab_type": "code",
        "outputId": "3805362f-f246-46a8-eae3-c2e5b96776d9",
        "colab": {
          "base_uri": "https://localhost:8080/",
          "height": 34
        }
      },
      "source": [
        "print(\"Rohit Bohora\")"
      ],
      "execution_count": 0,
      "outputs": [
        {
          "output_type": "stream",
          "text": [
            "Rohit Bohora\n"
          ],
          "name": "stdout"
        }
      ]
    },
    {
      "cell_type": "code",
      "metadata": {
        "id": "BPo9fBat7YDx",
        "colab_type": "code",
        "outputId": "28392a01-8dc8-4293-b968-1889febe80cd",
        "colab": {
          "base_uri": "https://localhost:8080/",
          "height": 34
        }
      },
      "source": [
        "print(\"k xa gau basi hau\")"
      ],
      "execution_count": 0,
      "outputs": [
        {
          "output_type": "stream",
          "text": [
            "k xa gau basi hau\n"
          ],
          "name": "stdout"
        }
      ]
    },
    {
      "cell_type": "code",
      "metadata": {
        "id": "wHzoEShbQ2X6",
        "colab_type": "code",
        "outputId": "c2ee874a-50f9-48ed-f56e-47df8e998d29",
        "colab": {
          "base_uri": "https://localhost:8080/",
          "height": 68
        }
      },
      "source": [
        "actress = []\n",
        "print(actress)\n",
        "\n",
        "actress.append(\"kat\")\n",
        "actress.append(\"sunny\")\n",
        "actress.append(\"bidya\")\n",
        "actress.append(\"malaika\")\n",
        "print(actress)\n",
        "print(actress[2])"
      ],
      "execution_count": 0,
      "outputs": [
        {
          "output_type": "stream",
          "text": [
            "[]\n",
            "['kat', 'sunny', 'bidya', 'malaika']\n",
            "bidya\n"
          ],
          "name": "stdout"
        }
      ]
    },
    {
      "cell_type": "code",
      "metadata": {
        "id": "GkrccgQJNjak",
        "colab_type": "code",
        "outputId": "1b76b6c3-4c5e-4d34-e0d5-5271d774c98d",
        "colab": {
          "base_uri": "https://localhost:8080/",
          "height": 102
        }
      },
      "source": [
        "actor = []\n",
        "actor = [\"rohit\",\"salman\",\"anmol\",\"sagar\"]\n",
        "print(actor)\n",
        "print(actor[0])\n",
        "print(actor[1])\n",
        "print(actor[2])\n",
        "print(actor[3])"
      ],
      "execution_count": 0,
      "outputs": [
        {
          "output_type": "stream",
          "text": [
            "['rohit', 'salman', 'anmol', 'sagar']\n",
            "rohit\n",
            "salman\n",
            "anmol\n",
            "sagar\n"
          ],
          "name": "stdout"
        }
      ]
    },
    {
      "cell_type": "code",
      "metadata": {
        "id": "F1ei9BzYJZSy",
        "colab_type": "code",
        "colab": {}
      },
      "source": [
        "# condition i need to satisfy\n",
        "# if number is divisible by 3 i need to print foo -3\n",
        "# if number is divisible by 5 i need to print bar -5\n",
        "# if number is divisible by both 3 and 5 i need to print foobar -153 \n",
        "\n",
        "n = int(input(\"Enter the number :\"))\n",
        "\n",
        "if (n % 3 ==0 and n % 5 ==0 ):\n",
        "  print(\"foobar\")\n",
        "\n",
        "elif n % 3==0:\n",
        "  print(\"foo\")\n",
        "\n",
        "elif n % 5==0:\n",
        "  print(\"bar\")\n",
        "\n",
        "else:\n",
        " pass"
      ],
      "execution_count": 0,
      "outputs": []
    },
    {
      "cell_type": "code",
      "metadata": {
        "id": "zZB1WTTwIeuq",
        "colab_type": "code",
        "colab": {}
      },
      "source": [
        "a = input(\"Enter your mood :\")\n",
        " \n",
        "if a==\"thik cha \": print(\"oh yeah\")"
      ],
      "execution_count": 0,
      "outputs": []
    },
    {
      "cell_type": "code",
      "metadata": {
        "id": "RBKspPpfHBVb",
        "colab_type": "code",
        "colab": {}
      },
      "source": [
        ""
      ],
      "execution_count": 0,
      "outputs": []
    },
    {
      "cell_type": "code",
      "metadata": {
        "id": "fck5C4LQ_LAE",
        "colab_type": "code",
        "colab": {}
      },
      "source": [
        "a = \"rohit\"\n",
        "b = \"bohora\"\n",
        "print(a)\n",
        "print(b)"
      ],
      "execution_count": 0,
      "outputs": []
    },
    {
      "cell_type": "code",
      "metadata": {
        "id": "hOHc0gsL_rVr",
        "colab_type": "code",
        "colab": {}
      },
      "source": [
        "a = input(\"Enter your name: \")\n",
        "if a==\"rohit\":\n",
        "    print(\"Bro tmi tw wild nai dami hoo yll\")\n",
        "else:\n",
        "    print(\"Teti khatrw tw haina hola ki\")    \n"
      ],
      "execution_count": 0,
      "outputs": []
    },
    {
      "cell_type": "code",
      "metadata": {
        "id": "d_m2pURyANpM",
        "colab_type": "code",
        "colab": {}
      },
      "source": [
        "name = input(\"Aja kaha gayerw ako hoss bajya?\")\n",
        "if name==\"khelerw ako\":\n",
        "    print(\"aja pitai khais\")\n",
        "elif name==\"ghumerw ako\":\n",
        "    print(\"na ja vanerw manenas hana tailae\")\n",
        "\n",
        "else:\n",
        "  print(\"aja wild nai gali khna dekhi bachyo hau\")"
      ],
      "execution_count": 0,
      "outputs": []
    },
    {
      "cell_type": "code",
      "metadata": {
        "id": "BW82CqMOBR_9",
        "colab_type": "code",
        "colab": {}
      },
      "source": [
        "a = \"cat\"\n",
        "b = \"hari\"\n",
        "c = \"sita\"\n",
        "\n",
        "if a==\"ram\" and b==\"hari\" and c==\"sita\":\n",
        "  print(\"sab thik  hoo\")\n",
        "else:\n",
        "  print(\"kehi tw gadbad xa hola daya\")  "
      ],
      "execution_count": 0,
      "outputs": []
    },
    {
      "cell_type": "code",
      "metadata": {
        "id": "OiEZeZb4B7gj",
        "colab_type": "code",
        "colab": {}
      },
      "source": [
        "import random \n",
        "\n",
        "baller = random.randint(1,10)\n",
        "batter = int(input(\"Enter your value:  \"))\n",
        "side = input(\"Enter your side:  \")\n",
        "\n",
        "if batter <=10 and (side ==\"left\" or side ==\"right\" or side ==\"front\") :\n",
        " if baller == batter and side!=\"left\":\n",
        "    print(\"You are out\")\n",
        " else:\n",
        "   print(\"You scored\")   \n",
        "else:\n",
        "   print(\"Only 1 to 10 is allowed here and left/right/front\")\n",
        "\n",
        "print(baller)"
      ],
      "execution_count": 0,
      "outputs": []
    },
    {
      "cell_type": "code",
      "metadata": {
        "id": "AG7JQ0sBO0-R",
        "colab_type": "code",
        "outputId": "0898abbc-1589-4ff4-f355-d9aaef524a58",
        "colab": {
          "base_uri": "https://localhost:8080/",
          "height": 119
        }
      },
      "source": [
        "a = \"rohit\"\n",
        "print(a[2])\n",
        "print(a[2:3])\n",
        "print(a[2:4])\n",
        "print(a[2:2])\n",
        "print(a[0:2])\n",
        "print(a[0:1])"
      ],
      "execution_count": 0,
      "outputs": [
        {
          "output_type": "stream",
          "text": [
            "h\n",
            "h\n",
            "hi\n",
            "\n",
            "ro\n",
            "r\n"
          ],
          "name": "stdout"
        }
      ]
    }
  ]
}