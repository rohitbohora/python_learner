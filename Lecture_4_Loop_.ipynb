{
  "nbformat": 4,
  "nbformat_minor": 0,
  "metadata": {
    "colab": {
      "name": "Lecture 4 Loop .ipynb",
      "provenance": [],
      "authorship_tag": "ABX9TyOrysB+fOAVDVfPEN4kIrxA",
      "include_colab_link": true
    },
    "kernelspec": {
      "name": "python3",
      "display_name": "Python 3"
    }
  },
  "cells": [
    {
      "cell_type": "markdown",
      "metadata": {
        "id": "view-in-github",
        "colab_type": "text"
      },
      "source": [
        "<a href=\"https://colab.research.google.com/github/rohitbohora/python_learner/blob/master/Lecture_4_Loop_.ipynb\" target=\"_parent\"><img src=\"https://colab.research.google.com/assets/colab-badge.svg\" alt=\"Open In Colab\"/></a>"
      ]
    },
    {
      "cell_type": "code",
      "metadata": {
        "id": "lSRFQUOrqj3i",
        "colab_type": "code",
        "colab": {
          "base_uri": "https://localhost:8080/",
          "height": 85
        },
        "outputId": "642054b2-122f-4ed8-9f8c-cda936ca58d2"
      },
      "source": [
        "for a in range(1,5):\n",
        "  print(a)"
      ],
      "execution_count": 1,
      "outputs": [
        {
          "output_type": "stream",
          "text": [
            "1\n",
            "2\n",
            "3\n",
            "4\n"
          ],
          "name": "stdout"
        }
      ]
    },
    {
      "cell_type": "code",
      "metadata": {
        "id": "H38dkh4sS6XI",
        "colab_type": "code",
        "outputId": "b1312588-aeb5-4aa6-9787-15623ab840dd",
        "colab": {
          "base_uri": "https://localhost:8080/",
          "height": 119
        }
      },
      "source": [
        "girls =[\"rosni\",\"niruta\",\"susma\",\"sunu\",\"aruna\",\"sony\"]\n",
        "my_choice =[\"sunu\",\"susma\"]\n",
        "\n",
        "for each_girl in girls:\n",
        "  if each_girl in my_choice:\n",
        "   print(\"Love of my life\",each_girl)\n",
        "\n",
        "  else:\n",
        "    print(\"Good friends\",each_girl) \n"
      ],
      "execution_count": 0,
      "outputs": [
        {
          "output_type": "stream",
          "text": [
            "Good friends rosni\n",
            "Good friends niruta\n",
            "Love of my life susma\n",
            "Love of my life sunu\n",
            "Good friends aruna\n",
            "Good friends sony\n"
          ],
          "name": "stdout"
        }
      ]
    },
    {
      "cell_type": "code",
      "metadata": {
        "id": "AdEjGW17QegH",
        "colab_type": "code",
        "outputId": "21307dad-8465-4e5c-f262-667414d6c034",
        "colab": {
          "base_uri": "https://localhost:8080/",
          "height": 34
        }
      },
      "source": [
        "boys = [\"rohit\",\"sagar\",\"anjan\",\"bishal\",\"sunil\",\"santosh\",\"rohan\",\"roshan\"]\n",
        "friend = []\n",
        "\n",
        "for each_boy in boys:\n",
        "  if each_boy ==\"rohit\":\n",
        "\n",
        "   friend.append(each_boy)\n",
        "   break\n",
        "  if each_boy.startswith(\"r\"):\n",
        "    friend.append(each_boy)\n",
        "\n",
        "print(friend)    \n",
        "  "
      ],
      "execution_count": 0,
      "outputs": [
        {
          "output_type": "stream",
          "text": [
            "['rohit']\n"
          ],
          "name": "stdout"
        }
      ]
    },
    {
      "cell_type": "code",
      "metadata": {
        "id": "hrq5EmUl31l8",
        "colab_type": "code",
        "outputId": "729813c1-cea3-4e75-e1b9-40c53cd784d6",
        "colab": {
          "base_uri": "https://localhost:8080/",
          "height": 119
        }
      },
      "source": [
        "fruits = [\"orange\",\"apple\",\"mango\",\"banana\",\"guavo\",\"grapes\"]\n",
        "my_fav = \"mango\"\n",
        " \n",
        "for each_item in fruits:\n",
        "   if each_item == my_fav:\n",
        "    print(\"I love\",each_item)\n",
        "\n",
        "   else:\n",
        "      print(\"I dont like\",each_item)"
      ],
      "execution_count": 0,
      "outputs": [
        {
          "output_type": "stream",
          "text": [
            "I dont like orange\n",
            "I dont like apple\n",
            "I love mango\n",
            "I dont like banana\n",
            "I dont like guavo\n",
            "I dont like grapes\n"
          ],
          "name": "stdout"
        }
      ]
    },
    {
      "cell_type": "code",
      "metadata": {
        "id": "od-3xGTpY1xA",
        "colab_type": "code",
        "colab": {}
      },
      "source": [
        ""
      ],
      "execution_count": 0,
      "outputs": []
    },
    {
      "cell_type": "code",
      "metadata": {
        "id": "IBhKtsxP4lPf",
        "colab_type": "code",
        "outputId": "e1d1ddf4-95ad-4d1c-e6a9-35e79476da32",
        "colab": {
          "base_uri": "https://localhost:8080/",
          "height": 119
        }
      },
      "source": [
        "girls =[\"rosni\",\"niruta\",\"susma\",\"sunu\",\"aruna\",\"sony\"]\n",
        "my_choice =\"sunu\"\n",
        "\n",
        "for each_girl in girls:\n",
        "  if each_girl == my_choice:\n",
        "   print(\"Love of my life\",each_girl)\n",
        "\n",
        "  else:\n",
        "    print(\"Good friends\",each_girl) \n",
        "\n",
        "  "
      ],
      "execution_count": 0,
      "outputs": [
        {
          "output_type": "stream",
          "text": [
            "Good friends rosni\n",
            "Good friends niruta\n",
            "Good friends susma\n",
            "Love of my life sunu\n",
            "Good friends aruna\n",
            "Good friends sony\n"
          ],
          "name": "stdout"
        }
      ]
    },
    {
      "cell_type": "code",
      "metadata": {
        "id": "LYIVR-dQwCNB",
        "colab_type": "code",
        "colab": {}
      },
      "source": [
        "for i in range(1,11):\n",
        " print(2*i)"
      ],
      "execution_count": 0,
      "outputs": []
    },
    {
      "cell_type": "code",
      "metadata": {
        "id": "UtYcaTWW2IIZ",
        "colab_type": "code",
        "colab": {}
      },
      "source": [
        "players = [\"messi\",\"ronaldo\",\"neymar\",\"suarez\",\"rakitic\"]\n",
        "my_favourite = \"messi\"\n",
        " \n",
        "for each_player in players:\n",
        "   if each_player == my_favourite:\n",
        "     print(\"GOAT of all time\")\n",
        "   else:\n",
        "     print(\"Not in the list \",each_player)  \n",
        "\n"
      ],
      "execution_count": 0,
      "outputs": []
    },
    {
      "cell_type": "code",
      "metadata": {
        "id": "bv9UfXbx24jH",
        "colab_type": "code",
        "colab": {}
      },
      "source": [
        "a = \"rohit\"\n",
        "for name in range(1,100):\n",
        "  print(a)"
      ],
      "execution_count": 0,
      "outputs": []
    }
  ]
}